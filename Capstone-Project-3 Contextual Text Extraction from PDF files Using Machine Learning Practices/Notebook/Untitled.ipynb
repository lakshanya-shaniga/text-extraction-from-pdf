{
 "cells": [
  {
   "cell_type": "code",
   "execution_count": 2,
   "id": "6b7d8572",
   "metadata": {},
   "outputs": [
    {
     "ename": "SyntaxError",
     "evalue": "invalid syntax (2055795112.py, line 2)",
     "output_type": "error",
     "traceback": [
      "\u001b[1;36m  Cell \u001b[1;32mIn[2], line 2\u001b[1;36m\u001b[0m\n\u001b[1;33m    import tabula-py\u001b[0m\n\u001b[1;37m                 ^\u001b[0m\n\u001b[1;31mSyntaxError\u001b[0m\u001b[1;31m:\u001b[0m invalid syntax\n"
     ]
    }
   ],
   "source": [
    "import PyPDF2\n"
   ]
  },
  {
   "cell_type": "code",
   "execution_count": 4,
   "id": "4ca925e0",
   "metadata": {},
   "outputs": [
    {
     "ename": "ModuleNotFoundError",
     "evalue": "No module named 'tabula_py'",
     "output_type": "error",
     "traceback": [
      "\u001b[1;31m---------------------------------------------------------------------------\u001b[0m",
      "\u001b[1;31mModuleNotFoundError\u001b[0m                       Traceback (most recent call last)",
      "Cell \u001b[1;32mIn[4], line 1\u001b[0m\n\u001b[1;32m----> 1\u001b[0m \u001b[38;5;28;01mimport\u001b[39;00m \u001b[38;5;21;01mtabula_py\u001b[39;00m\n",
      "\u001b[1;31mModuleNotFoundError\u001b[0m: No module named 'tabula_py'"
     ]
    }
   ],
   "source": [
    "import tabula_py"
   ]
  },
  {
   "cell_type": "code",
   "execution_count": 6,
   "id": "f3a59974",
   "metadata": {},
   "outputs": [],
   "source": [
    "pdf_file = open('equitas.pdf', 'rb')\n",
    "pdf_reader = PyPDF2.PdfReader(pdf_file)"
   ]
  },
  {
   "cell_type": "code",
   "execution_count": 8,
   "id": "92aec32e",
   "metadata": {},
   "outputs": [
    {
     "data": {
      "text/plain": [
       "{'/Author': 'Ashwin Viswanathan',\n",
       " '/CreationDate': \"D:20240405101040+05'30'\",\n",
       " '/Creator': 'Microsoft® Word 2016',\n",
       " '/ModDate': \"D:20240405101123+05'30'\",\n",
       " '/Producer': 'Microsoft® Word 2016'}"
      ]
     },
     "execution_count": 8,
     "metadata": {},
     "output_type": "execute_result"
    }
   ],
   "source": [
    "pdf_reader.metadata"
   ]
  },
  {
   "cell_type": "code",
   "execution_count": 9,
   "id": "1a748df8",
   "metadata": {},
   "outputs": [],
   "source": [
    "n1file = open('PolyPlex.pdf', 'rb')\n",
    "n1 = PyPDF2.PdfReader(n1file)\n"
   ]
  },
  {
   "cell_type": "code",
   "execution_count": 10,
   "id": "2331db4d",
   "metadata": {},
   "outputs": [
    {
     "data": {
      "text/plain": [
       "{'/Author': 'Verist Law',\n",
       " '/CreationDate': \"D:20240330194329+05'30'\",\n",
       " '/Creator': 'Microsoft® Word 2016',\n",
       " '/ModDate': \"D:20240330194437+05'30'\",\n",
       " '/Producer': 'Microsoft® Word 2016'}"
      ]
     },
     "execution_count": 10,
     "metadata": {},
     "output_type": "execute_result"
    }
   ],
   "source": [
    "n1.metadata"
   ]
  },
  {
   "cell_type": "code",
   "execution_count": 12,
   "id": "3848e9ee",
   "metadata": {},
   "outputs": [],
   "source": [
    "import tabulab"
   ]
  },
  {
   "cell_type": "code",
   "execution_count": 14,
   "id": "1de03e07",
   "metadata": {},
   "outputs": [
    {
     "name": "stderr",
     "output_type": "stream",
     "text": [
      "Error importing jpype dependencies. Fallback to subprocess.\n",
      "No module named 'jpype'\n",
      "'pages' argument isn't specified.Will extract only from page 1 by default.\n"
     ]
    }
   ],
   "source": [
    "tables = tabula.read_pdf('equitas.pdf')"
   ]
  },
  {
   "cell_type": "code",
   "execution_count": 16,
   "id": "841f4fac",
   "metadata": {},
   "outputs": [
    {
     "data": {
      "text/plain": [
       "[  National Stock Exchange of India Limited               BSE Limited\n",
       " 0                           Exchange Plaza  Phiroze Jeejeeboy Towers\n",
       " 1               Bandra Kurla Complex (BKC)              Dalal Street\n",
       " 2                            Bandra (East)           Mumbai – 400001\n",
       " 3                          Mumbai – 400051                       NaN\n",
       " 4                                      NaN                       NaN\n",
       " 5                       Symbol: EQUITASBNK    Scrip Code No : 543243]"
      ]
     },
     "execution_count": 16,
     "metadata": {},
     "output_type": "execute_result"
    }
   ],
   "source": [
    "tables"
   ]
  },
  {
   "cell_type": "code",
   "execution_count": 18,
   "id": "f94b8d96",
   "metadata": {
    "scrolled": false
   },
   "outputs": [
    {
     "name": "stdout",
     "output_type": "stream",
     "text": [
      "April 05, 2024\n",
      "National Stock Exchange of India Limited BSE Limited\n",
      "Exchange Plaza Phiroze Jeejeeboy Towers\n",
      "Bandra Kurla Complex (BKC) Dalal Street\n",
      "Bandra (East) Mumbai – 400001\n",
      "Mumbai – 400051\n",
      "Symbol: EQUITASBNK Scrip Code No : 543243\n",
      "Dear Sir\n",
      "Sub: Approval from Reserve Bank of India for appointment of Mr. Anil Kumar Sharma,\n",
      "former Executive Director, RBI as Part-time Chairman of the Bank\n",
      "Pursuant to applicable clauses of the SEBI (Listing Obligations and Disclosure Requirements)\n",
      "Regulations, 2015, we would like to inform that in accordance with terms of the Banking\n",
      "Regulation Act, 1949, the Reserve Bank of India vide its letter bearing reference\n",
      "DoR.GOV.No.S120/29.44.002/2024-25 dated April 04, 2024 (received by the Bank on April 04,\n",
      "2024 @ 4.33 pm) has approved the recommendation of the Board of the Bank for the\n",
      "appointment of Mr. Anil Kumar Sharma (DIN: 08537123), former Executive Director, Reserve\n",
      "Bank of India as Part-time Chairman of the Bank for a period of three (3) years with effect\n",
      "from April 25, 2024, consequent to the cessation of tenure of the present Part-time Chairman\n",
      "of the Bank Mr. Arun Ramanathan (DIN:00308848) on April 24, 2024.\n",
      "The proposed appointment shall be placed before the ensuing meeting of the Board of\n",
      "Directors of the Bank, details of which will be informed in compliance with applicable\n",
      "regulatory requirements.\n",
      "Kindly take the above information on record.\n",
      "Thanking you,\n",
      "Yours faithfully,\n",
      "For Equitas Small Finance Bank Limited\n",
      "N Ramanathan\n",
      "Company Secretary\n"
     ]
    }
   ],
   "source": [
    "import pdfplumber\n",
    "\n",
    "def extract_text_from_pdf(pdf_path):\n",
    "    with pdfplumber.open(pdf_path) as pdf:\n",
    "        text = \"\"\n",
    "        for page in pdf.pages:\n",
    "            text += page.extract_text()\n",
    "    return text\n",
    "\n",
    "pdf_path = 'equitas.pdf'\n",
    "text = extract_text_from_pdf(pdf_path)\n",
    "print(text)\n"
   ]
  },
  {
   "cell_type": "code",
   "execution_count": 21,
   "id": "c2fd9ca4",
   "metadata": {},
   "outputs": [
    {
     "name": "stdout",
     "output_type": "stream",
     "text": [
      "Email addresses: []\n",
      "Phone numbers: []\n",
      "Found 'Exchange Plaza Phiroze Jeejeeboy Towers' in the text\n",
      "Found 'Ramanathan' in the text\n",
      "Found 'DIN' in the text\n"
     ]
    }
   ],
   "source": [
    "import re\n",
    "\n",
    "# Example: Extract email addresses using regular expressions\n",
    "emails = re.findall(r'\\b[A-Za-z0-9._%+-]+@[A-Za-z0-9.-]+\\.[A-Z|a-z]{2,}\\b', text)\n",
    "print(\"Email addresses:\", emails)\n",
    "\n",
    "# Example: Extract phone numbers using regular expressions\n",
    "phone_numbers = re.findall(r'\\b\\d{3}[-.\\s]?\\d{3}[-.\\s]?\\d{4}\\b', text)\n",
    "print(\"Phone numbers:\", phone_numbers)\n",
    "\n",
    "# Example: Extract specific keywords\n",
    "keywords = ['Exchange Plaza Phiroze Jeejeeboy Towers','Ramanathan','DIN']\n",
    "for keyword in keywords:\n",
    "    if keyword.lower() in text.lower():\n",
    "        print(f\"Found '{keyword}' in the text\")\n"
   ]
  },
  {
   "cell_type": "code",
   "execution_count": 22,
   "id": "c09c023d",
   "metadata": {},
   "outputs": [
    {
     "name": "stdout",
     "output_type": "stream",
     "text": [
      "Occurrences of 'Exchange Plaza Phiroze Jeejeeboy Towers':\n",
      "  Line: 3, Column: 1, Keyword: Exchange Plaza Phiroze Jeejeeboy Towers\n",
      "Occurrences of 'Ramanathan':\n",
      "  Line: 19, Column: 22, Keyword: Ramanathan\n",
      "  Line: 27, Column: 3, Keyword: Ramanathan\n",
      "Occurrences of 'DIN':\n",
      "  Line: 16, Column: 39, Keyword: DIN\n",
      "  Line: 19, Column: 34, Keyword: DIN\n"
     ]
    }
   ],
   "source": [
    "def find_keywords_in_text(text, keyword):\n",
    "    occurrences = []\n",
    "    lines = text.split('\\n')\n",
    "    for line_num, line in enumerate(lines, start=1):\n",
    "        matches = re.finditer(r'\\b{}\\b'.format(re.escape(keyword)), line, re.IGNORECASE)\n",
    "        for match in matches:\n",
    "            occurrence = {\n",
    "                \"line\": line_num,\n",
    "                \"column\": match.start() + 1,\n",
    "                \"keyword\": keyword\n",
    "            }\n",
    "            occurrences.append(occurrence)\n",
    "    return occurrences\n",
    "\n",
    "for keyword in keywords:\n",
    "    occurrences = find_keywords_in_text(text, keyword)\n",
    "    print(f\"Occurrences of '{keyword}':\")\n",
    "    for occurrence in occurrences:\n",
    "        print(f\"  Line: {occurrence['line']}, Column: {occurrence['column']}, Keyword: {occurrence['keyword']}\")\n"
   ]
  }
 ],
 "metadata": {
  "kernelspec": {
   "display_name": "Python 3 (ipykernel)",
   "language": "python",
   "name": "python3"
  },
  "language_info": {
   "codemirror_mode": {
    "name": "ipython",
    "version": 3
   },
   "file_extension": ".py",
   "mimetype": "text/x-python",
   "name": "python",
   "nbconvert_exporter": "python",
   "pygments_lexer": "ipython3",
   "version": "3.11.5"
  }
 },
 "nbformat": 4,
 "nbformat_minor": 5
}
